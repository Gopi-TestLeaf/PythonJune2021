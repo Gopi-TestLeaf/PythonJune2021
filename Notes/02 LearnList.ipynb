{
 "cells": [
  {
   "cell_type": "code",
   "execution_count": 29,
   "metadata": {},
   "outputs": [],
   "source": [
    "#Data Structure [Non - Primitive Data Structure] - List, Tuples, Dictionary, set and Files\n",
    "   \n",
    "    # Manipulating individual values is very difficult. so we focus into the DataStructure. \n",
    "        # Note:: we can add any type of data values in list\n",
    "\n",
    "    #List ->        \n",
    "       \n",
    "       # append    :    its add single element in existing list(one element)\n",
    "       # extend    :    its add list of elements to another List  (collection of elements)\n",
    "       # insert    :    its insert element in to list using index.\n",
    "        \n",
    "       # index     :    its return index-number of given element in the list\n",
    "       # copy      :    its make copy of another list\n",
    "       # count     :    its return occurrences of element in a list\n",
    "       \n",
    "       # remove    :    its remove the element from list based on given value. (if you know the value in list)\n",
    "       # pop       :    its remove the value from list based on given index number.(Note: By default its removes last element form list if not specify index)\n",
    "       # clear     :    its remove all the values from list.\n",
    "             \n",
    "       # reverse   :    its reverse the existing list        \n",
    "       # sort      :    its sort in alphabet.\n",
    "        \n",
    "# ************************************************************************************************        \n",
    "        \n",
    "       # len       :    its return count of item\n",
    "       # sum       :    sum the each item in the list(only for integer)\n",
    "       # min       :    its print minimum value in the given list\n",
    "       # max       :    its return maximum value in the given list        \n",
    "        \n",
    "       # reversed  :    its gives output in reverse order. (use for loop)\n",
    "       # sorted    :    its gives output in sorted order. (use for loop)\n",
    "        \n",
    "        \n",
    "        \n",
    "    # List Slicing ->   A Python slice extracts elements, based on a start and stop. We take slices on many types in Python.\n",
    "                        # We specify an optional first index, an optional last index, and an optional step.  \n",
    "\n",
    "    \n",
    "    # list[inclusive:exclusive] : for subset of list\n",
    "        "
   ]
  },
  {
   "cell_type": "code",
   "execution_count": 3,
   "metadata": {},
   "outputs": [],
   "source": [
    "# Create a list\n",
    "# mobiles.clear()\n",
    "mobiles = ['sumsung', 'LG', 'OnePlus', 'Apple', \"sample\"]"
   ]
  },
  {
   "cell_type": "code",
   "execution_count": 4,
   "metadata": {},
   "outputs": [
    {
     "data": {
      "text/plain": [
       "['sumsung', 'LG', 'OnePlus', 'Apple', 'sample']"
      ]
     },
     "execution_count": 4,
     "metadata": {},
     "output_type": "execute_result"
    }
   ],
   "source": [
    "mobiles"
   ]
  },
  {
   "cell_type": "code",
   "execution_count": 5,
   "metadata": {},
   "outputs": [
    {
     "data": {
      "text/plain": [
       "'sumsung'"
      ]
     },
     "execution_count": 5,
     "metadata": {},
     "output_type": "execute_result"
    }
   ],
   "source": [
    "# Array Index\n",
    "mobiles[0]"
   ]
  },
  {
   "cell_type": "code",
   "execution_count": 6,
   "metadata": {},
   "outputs": [
    {
     "name": "stdout",
     "output_type": "stream",
     "text": [
      "<class 'list'>\n",
      "['sumsung', 'LG', 'OnePlus', 'Apple', 'sample']\n"
     ]
    }
   ],
   "source": [
    "# Verify DataType of variable\n",
    "print(type(mobiles))\n",
    "print(mobiles)"
   ]
  },
  {
   "cell_type": "code",
   "execution_count": 4,
   "metadata": {},
   "outputs": [
    {
     "data": {
      "text/plain": [
       "'Apple'"
      ]
     },
     "execution_count": 4,
     "metadata": {},
     "output_type": "execute_result"
    }
   ],
   "source": [
    "#fetch minimum value in List\n",
    "min(mobiles)"
   ]
  },
  {
   "cell_type": "code",
   "execution_count": 5,
   "metadata": {},
   "outputs": [
    {
     "data": {
      "text/plain": [
       "'sumsung'"
      ]
     },
     "execution_count": 5,
     "metadata": {},
     "output_type": "execute_result"
    }
   ],
   "source": [
    "#fetch maximum value in List\n",
    "max(mobiles)"
   ]
  },
  {
   "cell_type": "code",
   "execution_count": 6,
   "metadata": {},
   "outputs": [
    {
     "data": {
      "text/plain": [
       "5"
      ]
     },
     "execution_count": 6,
     "metadata": {},
     "output_type": "execute_result"
    }
   ],
   "source": [
    "# for Count of list\n",
    "len(mobiles)"
   ]
  },
  {
   "cell_type": "code",
   "execution_count": 45,
   "metadata": {},
   "outputs": [],
   "source": [
    "# append value in to list -> append @ last\n",
    "mobiles.append(\"Redmi\")"
   ]
  },
  {
   "cell_type": "code",
   "execution_count": 46,
   "metadata": {},
   "outputs": [
    {
     "name": "stdout",
     "output_type": "stream",
     "text": [
      "['sumsung', 'LG', 'OnePlus', 'Apple', 'Redmi']\n"
     ]
    }
   ],
   "source": [
    "print(mobiles)"
   ]
  },
  {
   "cell_type": "code",
   "execution_count": 47,
   "metadata": {},
   "outputs": [
    {
     "name": "stdout",
     "output_type": "stream",
     "text": [
      "['sumsung', 'LG', 'OnePlus', 'Apple', 'Redmi', 'Honor', 'Sony']\n"
     ]
    }
   ],
   "source": [
    "# extend list on element in to list\n",
    "mobiles.extend([\"Honor\",\"Sony\"])\n",
    "print(mobiles)"
   ]
  },
  {
   "cell_type": "code",
   "execution_count": 49,
   "metadata": {},
   "outputs": [
    {
     "name": "stdout",
     "output_type": "stream",
     "text": [
      "['sumsung', 'LG', 'OnePlus', 'Apple', 'Redmi', 'Honor', 'Sony', 'Honor', 'Sony', 'Gopi']\n"
     ]
    }
   ],
   "source": [
    "# Another way to extend the list of values\n",
    "mobiles = mobiles + [\"Honor\", \"Sony\", \"Gopi\"]     # or   mobile += [\"Honor\", \"Sony\"]\n",
    "print(mobiles)"
   ]
  },
  {
   "cell_type": "code",
   "execution_count": 50,
   "metadata": {},
   "outputs": [],
   "source": [
    "# insert value based on specific index number\n",
    "mobiles.insert(2, \"Gopi\")"
   ]
  },
  {
   "cell_type": "code",
   "execution_count": 51,
   "metadata": {},
   "outputs": [
    {
     "name": "stdout",
     "output_type": "stream",
     "text": [
      "['sumsung', 'LG', 'Gopi', 'OnePlus', 'Apple', 'Redmi', 'Honor', 'Sony', 'Honor', 'Sony', 'Gopi']\n",
      "\n"
     ]
    }
   ],
   "source": [
    "print(mobiles)\n",
    "\n",
    "print()"
   ]
  },
  {
   "cell_type": "code",
   "execution_count": 52,
   "metadata": {},
   "outputs": [],
   "source": [
    "mobiles.remove('Gopi')"
   ]
  },
  {
   "cell_type": "code",
   "execution_count": 53,
   "metadata": {},
   "outputs": [
    {
     "name": "stdout",
     "output_type": "stream",
     "text": [
      "['sumsung', 'LG', 'OnePlus', 'Apple', 'Redmi', 'Honor', 'Sony', 'Honor', 'Sony', 'Gopi']\n"
     ]
    }
   ],
   "source": [
    "print(mobiles)"
   ]
  },
  {
   "cell_type": "code",
   "execution_count": 55,
   "metadata": {},
   "outputs": [
    {
     "name": "stdout",
     "output_type": "stream",
     "text": [
      "Apple\n",
      "OnePlus\n",
      "LG\n",
      "sumsung\n",
      "23\n",
      "3\n",
      "6\n",
      "2\n"
     ]
    }
   ],
   "source": [
    "#for reversed\n",
    "mobiles = ['sumsung', 'LG', 'OnePlus', 'Apple']\n",
    "for eachmobile in reversed(mobiles):\n",
    "    print(eachmobile)\n",
    "\n",
    "number = [2,6, 3, 23]\n",
    "for eachNumber in reversed(number):\n",
    "    print(eachNumber)"
   ]
  },
  {
   "cell_type": "code",
   "execution_count": 56,
   "metadata": {},
   "outputs": [
    {
     "name": "stdout",
     "output_type": "stream",
     "text": [
      "Apple\n",
      "LG\n",
      "OnePlus\n",
      "sumsung\n"
     ]
    }
   ],
   "source": [
    "#for sorted\n",
    "mobiles = ['sumsung', 'LG', 'OnePlus', 'Apple']\n",
    "for eachmobile in sorted(mobiles):\n",
    "    print(eachmobile)\n"
   ]
  },
  {
   "cell_type": "code",
   "execution_count": 7,
   "metadata": {},
   "outputs": [
    {
     "data": {
      "text/plain": [
       "['sumsung', 'LG', 'OnePlus', 'Apple', 'sample']"
      ]
     },
     "execution_count": 7,
     "metadata": {},
     "output_type": "execute_result"
    }
   ],
   "source": [
    "mobiles"
   ]
  },
  {
   "cell_type": "code",
   "execution_count": 8,
   "metadata": {},
   "outputs": [
    {
     "data": {
      "text/plain": [
       "'sample'"
      ]
     },
     "execution_count": 8,
     "metadata": {},
     "output_type": "execute_result"
    }
   ],
   "source": [
    " mobiles.pop()"
   ]
  },
  {
   "cell_type": "code",
   "execution_count": 9,
   "metadata": {},
   "outputs": [
    {
     "data": {
      "text/plain": [
       "['sumsung', 'LG', 'OnePlus', 'Apple']"
      ]
     },
     "execution_count": 9,
     "metadata": {},
     "output_type": "execute_result"
    }
   ],
   "source": [
    "mobiles"
   ]
  },
  {
   "cell_type": "code",
   "execution_count": 11,
   "metadata": {},
   "outputs": [],
   "source": [
    "mobiles.remove(\"LG\")"
   ]
  },
  {
   "cell_type": "code",
   "execution_count": 12,
   "metadata": {},
   "outputs": [
    {
     "data": {
      "text/plain": [
       "['sumsung', 'OnePlus', 'Apple']"
      ]
     },
     "execution_count": 12,
     "metadata": {},
     "output_type": "execute_result"
    }
   ],
   "source": [
    "mobiles"
   ]
  },
  {
   "cell_type": "code",
   "execution_count": 13,
   "metadata": {},
   "outputs": [
    {
     "data": {
      "text/plain": [
       "'OnePlus'"
      ]
     },
     "execution_count": 13,
     "metadata": {},
     "output_type": "execute_result"
    }
   ],
   "source": [
    "mobiles.pop(1)"
   ]
  },
  {
   "cell_type": "code",
   "execution_count": 14,
   "metadata": {},
   "outputs": [],
   "source": [
    "m1 = ['sumsung', 'LG', 'OnePlus', 'Apple', 'sample']"
   ]
  },
  {
   "cell_type": "code",
   "execution_count": 15,
   "metadata": {},
   "outputs": [],
   "source": [
    "x = m1.pop()"
   ]
  },
  {
   "cell_type": "code",
   "execution_count": 16,
   "metadata": {},
   "outputs": [
    {
     "data": {
      "text/plain": [
       "['sumsung', 'LG', 'OnePlus', 'Apple']"
      ]
     },
     "execution_count": 16,
     "metadata": {},
     "output_type": "execute_result"
    }
   ],
   "source": [
    "m1"
   ]
  },
  {
   "cell_type": "code",
   "execution_count": 18,
   "metadata": {},
   "outputs": [
    {
     "name": "stdout",
     "output_type": "stream",
     "text": [
      "sumsung\n",
      "LG\n",
      "OnePlus\n",
      "Apple\n"
     ]
    }
   ],
   "source": [
    "for i in m1:\n",
    "    print(i)"
   ]
  },
  {
   "cell_type": "code",
   "execution_count": 19,
   "metadata": {},
   "outputs": [
    {
     "data": {
      "text/plain": [
       "['sumsung', 'LG', 'OnePlus', 'Apple']"
      ]
     },
     "execution_count": 19,
     "metadata": {},
     "output_type": "execute_result"
    }
   ],
   "source": [
    "m1"
   ]
  },
  {
   "cell_type": "code",
   "execution_count": 20,
   "metadata": {},
   "outputs": [],
   "source": [
    "m1.reverse()"
   ]
  },
  {
   "cell_type": "code",
   "execution_count": 21,
   "metadata": {},
   "outputs": [
    {
     "data": {
      "text/plain": [
       "['Apple', 'OnePlus', 'LG', 'sumsung']"
      ]
     },
     "execution_count": 21,
     "metadata": {},
     "output_type": "execute_result"
    }
   ],
   "source": [
    "m1"
   ]
  },
  {
   "cell_type": "code",
   "execution_count": 22,
   "metadata": {},
   "outputs": [],
   "source": [
    "m1.sort()"
   ]
  },
  {
   "cell_type": "code",
   "execution_count": 23,
   "metadata": {},
   "outputs": [
    {
     "data": {
      "text/plain": [
       "['Apple', 'LG', 'OnePlus', 'sumsung']"
      ]
     },
     "execution_count": 23,
     "metadata": {},
     "output_type": "execute_result"
    }
   ],
   "source": [
    "m1"
   ]
  },
  {
   "cell_type": "code",
   "execution_count": null,
   "metadata": {},
   "outputs": [],
   "source": []
  }
 ],
 "metadata": {
  "kernelspec": {
   "display_name": "Python 3",
   "language": "python",
   "name": "python3"
  },
  "language_info": {
   "codemirror_mode": {
    "name": "ipython",
    "version": 3
   },
   "file_extension": ".py",
   "mimetype": "text/x-python",
   "name": "python",
   "nbconvert_exporter": "python",
   "pygments_lexer": "ipython3",
   "version": "3.7.6"
  }
 },
 "nbformat": 4,
 "nbformat_minor": 2
}
