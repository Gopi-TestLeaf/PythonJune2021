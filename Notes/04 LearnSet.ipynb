{
 "cells": [
  {
   "cell_type": "markdown",
   "metadata": {},
   "source": [
    "# Learn_Set \n",
    "\n",
    "1. A Set is **unordered** collection of Elements or Items\n",
    "2. Its doesn't allows the **duplicate** values which means it allows only unique values.    \n",
    "3. A set is created by placing all the items (elements) inside curly braces **{}**. \n",
    "4. We cannot access or change an element of set using **indexing or slicing**.(because of unorder)    \n",
    "    ## Set \n",
    "    \n",
    "      - **add**       :    its add values in existing set(one element).\n",
    "    \n",
    "      - **update**    :    its add multiple values like list with set.\n",
    "        \n",
    "      - **remove**    :    its remove the value bases on given value. remove is not work based on indexing(because of unorder).\n",
    "    \n",
    "      - **discard**   :    its remove the value bases on given value.\n",
    "    \n",
    "      - **pop**       :    its remove the element of the set.\n",
    "    \n",
    "      - **clear**     :    its clear entire set.\n",
    "            \n",
    "      - **len**       :    its return count of item in the set.\n",
    "    \n",
    "      - **sum**       :    sum the each item in the set(only for integer).\n",
    "    \n",
    "      - **min**       :    its print minimum value in the given list.\n",
    "    \n",
    "      - **max**       :    its return maximum value in the given list.\n",
    "    \n",
    "    \n",
    "    \n",
    "        \n",
    "    \n",
    "     "
   ]
  },
  {
   "cell_type": "markdown",
   "metadata": {},
   "source": [
    "#### Create empty Set"
   ]
  },
  {
   "cell_type": "code",
   "execution_count": 2,
   "metadata": {},
   "outputs": [
    {
     "data": {
      "text/plain": [
       "set"
      ]
     },
     "execution_count": 2,
     "metadata": {},
     "output_type": "execute_result"
    }
   ],
   "source": [
    "s = {'a'}\n",
    "type(s)"
   ]
  },
  {
   "cell_type": "markdown",
   "metadata": {},
   "source": [
    "#### initialize Set"
   ]
  },
  {
   "cell_type": "code",
   "execution_count": 3,
   "metadata": {},
   "outputs": [
    {
     "name": "stdout",
     "output_type": "stream",
     "text": [
      "{'Pie', 'Nougat', 'Marshmallow', 'Oreo'}\n",
      "<class 'set'>\n",
      "--------------------------------------------\n",
      "{}\n",
      "<class 'dict'>\n",
      "--------------------------------------------\n",
      "{'Jelly Bean'}\n",
      "<class 'set'>\n"
     ]
    }
   ],
   "source": [
    "a_version = {\"Pie\", \"Oreo\", \"Nougat\", \"Marshmallow\"}\n",
    "print(a_version)\n",
    "print(type(a_version))\n",
    "\n",
    "print(\"--------------------------------------------\")\n",
    "\n",
    "\n",
    "a_version = {}\n",
    "print(a_version)\n",
    "print(type(a_version))\n",
    "\n",
    "print(\"--------------------------------------------\")\n",
    "\n",
    "a_version = {\"Jelly Bean\"}\n",
    "print(a_version)\n",
    "print(type(a_version))\n"
   ]
  },
  {
   "cell_type": "markdown",
   "metadata": {},
   "source": [
    "#### Add the item into set."
   ]
  },
  {
   "cell_type": "code",
   "execution_count": 4,
   "metadata": {
    "scrolled": true
   },
   "outputs": [
    {
     "name": "stdout",
     "output_type": "stream",
     "text": [
      "{'Pie', 'Nougat', 'Marshmallow', 'Jelly Bean', 'Oreo'}\n"
     ]
    }
   ],
   "source": [
    "a_version.add(\"Pie\")\n",
    "a_version.add(\"Oreo\")\n",
    "a_version.add(\"Nougat\")\n",
    "a_version.add(\"Marshmallow\")\n",
    "print(a_version)"
   ]
  },
  {
   "cell_type": "code",
   "execution_count": 7,
   "metadata": {},
   "outputs": [
    {
     "ename": "KeyError",
     "evalue": "'11111'",
     "output_type": "error",
     "traceback": [
      "\u001b[1;31m---------------------------------------------------------------------------\u001b[0m",
      "\u001b[1;31mKeyError\u001b[0m                                  Traceback (most recent call last)",
      "\u001b[1;32m<ipython-input-7-df1fd65b3a82>\u001b[0m in \u001b[0;36m<module>\u001b[1;34m\u001b[0m\n\u001b[1;32m----> 1\u001b[1;33m \u001b[0ma_version\u001b[0m\u001b[1;33m.\u001b[0m\u001b[0mremove\u001b[0m\u001b[1;33m(\u001b[0m\u001b[1;34m'11111'\u001b[0m\u001b[1;33m)\u001b[0m\u001b[1;33m\u001b[0m\u001b[1;33m\u001b[0m\u001b[0m\n\u001b[0m",
      "\u001b[1;31mKeyError\u001b[0m: '11111'"
     ]
    }
   ],
   "source": [
    "a_version.remove('11111')"
   ]
  },
  {
   "cell_type": "markdown",
   "metadata": {},
   "source": [
    "#### Update the item into set"
   ]
  },
  {
   "cell_type": "code",
   "execution_count": 3,
   "metadata": {},
   "outputs": [
    {
     "name": "stdout",
     "output_type": "stream",
     "text": [
      "{'KitKat', 'Jelly Bean', 'Oreo', 'Nougat', 'Lollipop', 'Pie', 'Marshmallow'}\n"
     ]
    }
   ],
   "source": [
    "a_version = {\"Pie\", \"Oreo\", \"Nougat\", \"Marshmallow\"}\n",
    "b_version = {\"Lollipop\", \"KitKat\", \"Jelly Bean\", \"Lollipop\"}\n",
    "a_version.update(b_version)\n",
    "print(a_version)"
   ]
  },
  {
   "cell_type": "markdown",
   "metadata": {},
   "source": [
    "#### Set -> not support indexing"
   ]
  },
  {
   "cell_type": "code",
   "execution_count": 4,
   "metadata": {},
   "outputs": [
    {
     "ename": "TypeError",
     "evalue": "'set' object is not subscriptable",
     "output_type": "error",
     "traceback": [
      "\u001b[1;31m---------------------------------------------------------------------------\u001b[0m",
      "\u001b[1;31mTypeError\u001b[0m                                 Traceback (most recent call last)",
      "\u001b[1;32m<ipython-input-4-af87b8dc8710>\u001b[0m in \u001b[0;36m<module>\u001b[1;34m\u001b[0m\n\u001b[1;32m----> 1\u001b[1;33m \u001b[0ma_version\u001b[0m\u001b[1;33m[\u001b[0m\u001b[1;36m2\u001b[0m\u001b[1;33m]\u001b[0m\u001b[1;33m\u001b[0m\u001b[1;33m\u001b[0m\u001b[0m\n\u001b[0m",
      "\u001b[1;31mTypeError\u001b[0m: 'set' object is not subscriptable"
     ]
    }
   ],
   "source": [
    "a_version[2]"
   ]
  },
  {
   "cell_type": "markdown",
   "metadata": {},
   "source": [
    "#### remove item based on value using remove - not an index"
   ]
  },
  {
   "cell_type": "code",
   "execution_count": 11,
   "metadata": {},
   "outputs": [
    {
     "name": "stdout",
     "output_type": "stream",
     "text": [
      "{'Marshmallow', 'Nougat', 'Pie'}\n"
     ]
    }
   ],
   "source": [
    "a_version = {\"Pie\", \"Oreo\", \"Nougat\", \"Marshmallow\"}\n",
    "a_version.remove(\"Oreo\")\n",
    "print(a_version)\n"
   ]
  },
  {
   "cell_type": "markdown",
   "metadata": {},
   "source": [
    "#### remove the item based on value using discard fun"
   ]
  },
  {
   "cell_type": "code",
   "execution_count": 12,
   "metadata": {},
   "outputs": [
    {
     "name": "stdout",
     "output_type": "stream",
     "text": [
      "{'Marshmallow', 'Nougat'}\n"
     ]
    }
   ],
   "source": [
    "a_version.discard(\"Pie\")\n",
    "print(a_version)"
   ]
  },
  {
   "cell_type": "markdown",
   "metadata": {},
   "source": [
    "#### using Pop fun"
   ]
  },
  {
   "cell_type": "code",
   "execution_count": 13,
   "metadata": {},
   "outputs": [
    {
     "name": "stdout",
     "output_type": "stream",
     "text": [
      "{'Oreo', 'Nougat', 'Pie'}\n"
     ]
    }
   ],
   "source": [
    "a_version = {\"Pie\", \"Oreo\", \"Nougat\", \"Marshmallow\"}\n",
    "a_version.pop()\n",
    "print(a_version)"
   ]
  },
  {
   "cell_type": "markdown",
   "metadata": {},
   "source": [
    "#### add new item in the Set"
   ]
  },
  {
   "cell_type": "code",
   "execution_count": 14,
   "metadata": {},
   "outputs": [
    {
     "name": "stdout",
     "output_type": "stream",
     "text": [
      "{'Nougat', 'Oreo', 'Lollipop', 'Pie'}\n"
     ]
    }
   ],
   "source": [
    "a_version.add(\"Lollipop\")\n",
    "print(a_version)"
   ]
  },
  {
   "cell_type": "markdown",
   "metadata": {},
   "source": [
    "#### for Count of Set"
   ]
  },
  {
   "cell_type": "code",
   "execution_count": 15,
   "metadata": {},
   "outputs": [
    {
     "name": "stdout",
     "output_type": "stream",
     "text": [
      "4\n"
     ]
    }
   ],
   "source": [
    "print(len(a_version))"
   ]
  },
  {
   "cell_type": "markdown",
   "metadata": {},
   "source": [
    "#### fetch maximum value in Set"
   ]
  },
  {
   "cell_type": "code",
   "execution_count": 16,
   "metadata": {},
   "outputs": [
    {
     "name": "stdout",
     "output_type": "stream",
     "text": [
      "Pie\n"
     ]
    }
   ],
   "source": [
    "print(max(a_version))"
   ]
  },
  {
   "cell_type": "markdown",
   "metadata": {},
   "source": [
    "#### fetch minimum value in Set"
   ]
  },
  {
   "cell_type": "code",
   "execution_count": 17,
   "metadata": {},
   "outputs": [
    {
     "name": "stdout",
     "output_type": "stream",
     "text": [
      "Lollipop\n"
     ]
    }
   ],
   "source": [
    "print(min(a_version))"
   ]
  },
  {
   "cell_type": "markdown",
   "metadata": {},
   "source": [
    "#### sum of each item(integer)"
   ]
  },
  {
   "cell_type": "code",
   "execution_count": 18,
   "metadata": {},
   "outputs": [
    {
     "name": "stdout",
     "output_type": "stream",
     "text": [
      "6\n"
     ]
    }
   ],
   "source": [
    "tec = {1,2,3}\n",
    "print(sum(tec))"
   ]
  },
  {
   "cell_type": "markdown",
   "metadata": {},
   "source": [
    "#### for clear funcation"
   ]
  },
  {
   "cell_type": "code",
   "execution_count": 19,
   "metadata": {},
   "outputs": [
    {
     "name": "stdout",
     "output_type": "stream",
     "text": [
      "None\n"
     ]
    }
   ],
   "source": [
    "print(tec.clear())"
   ]
  },
  {
   "cell_type": "markdown",
   "metadata": {},
   "source": [
    "## Set additional Operations\n",
    "<br>\n",
    "\n",
    "   > **issubset or '<='**                :    its returns True if Set1 is a subset of Set2\n",
    "   \n",
    "   > **issuperset or '>='**              :    its returns True if Set2 is a subset of Set1\n",
    "\n",
    "   > **Union or '|'**                    :    union of two or more Set.\n",
    "    \n",
    "   > **Intersection or '&'**             :    intersection of two or more Set {its display values available in both set}.\n",
    "    \n",
    "   > **Difference or '-'**               :    Difference  of Set {its display values available in first set}.\n",
    "    \n",
    "   > **Symmentric Difference or '^'**    :    Difference  of Set {its display values available in both set}. \n",
    "   \n",
    "   > **sorted**                          :    its sort the items in Set.\n",
    "            \n"
   ]
  },
  {
   "cell_type": "markdown",
   "metadata": {},
   "source": [
    "#### Create new two set collection"
   ]
  },
  {
   "cell_type": "code",
   "execution_count": 1,
   "metadata": {},
   "outputs": [],
   "source": [
    "andriodNewVerions = {\"Pie\", \"Oreo\", \"Nougat\", \"Marshmallow\", \"Lollipop\"}\n",
    "andriodOlderVersions = {\"Lollipop\", \"KitKat\", \"Jelly Bean\", \"Lollipop\"}\n",
    "#andriodOlderVersions = {\"Lollipop\"}"
   ]
  },
  {
   "cell_type": "markdown",
   "metadata": {},
   "source": [
    "#### for SubSet"
   ]
  },
  {
   "cell_type": "code",
   "execution_count": 2,
   "metadata": {},
   "outputs": [
    {
     "name": "stdout",
     "output_type": "stream",
     "text": [
      "False\n",
      "False\n"
     ]
    }
   ],
   "source": [
    "print(andriodNewVerions <= andriodOlderVersions)\n",
    "print(andriodNewVerions.issubset(andriodOlderVersions))"
   ]
  },
  {
   "cell_type": "markdown",
   "metadata": {},
   "source": [
    "#### for superSet"
   ]
  },
  {
   "cell_type": "code",
   "execution_count": 3,
   "metadata": {},
   "outputs": [
    {
     "name": "stdout",
     "output_type": "stream",
     "text": [
      "False\n",
      "False\n"
     ]
    }
   ],
   "source": [
    "print(andriodNewVerions >= andriodOlderVersions)\n",
    "print(andriodNewVerions.issuperset(andriodOlderVersions))"
   ]
  },
  {
   "cell_type": "markdown",
   "metadata": {},
   "source": [
    "#### adding two Sets"
   ]
  },
  {
   "cell_type": "code",
   "execution_count": 5,
   "metadata": {},
   "outputs": [
    {
     "ename": "TypeError",
     "evalue": "unsupported operand type(s) for +: 'set' and 'set'",
     "output_type": "error",
     "traceback": [
      "\u001b[1;31m---------------------------------------------------------------------------\u001b[0m",
      "\u001b[1;31mTypeError\u001b[0m                                 Traceback (most recent call last)",
      "\u001b[1;32m<ipython-input-5-914a774f799f>\u001b[0m in \u001b[0;36m<module>\u001b[1;34m\u001b[0m\n\u001b[1;32m----> 1\u001b[1;33m \u001b[0mprint\u001b[0m\u001b[1;33m(\u001b[0m\u001b[0mandriodNewVerions\u001b[0m \u001b[1;33m+\u001b[0m \u001b[0mandriodOlderVersions\u001b[0m\u001b[1;33m)\u001b[0m\u001b[1;33m\u001b[0m\u001b[1;33m\u001b[0m\u001b[0m\n\u001b[0m",
      "\u001b[1;31mTypeError\u001b[0m: unsupported operand type(s) for +: 'set' and 'set'"
     ]
    }
   ],
   "source": [
    "print(andriodNewVerions + andriodOlderVersions)"
   ]
  },
  {
   "cell_type": "markdown",
   "metadata": {},
   "source": [
    "#### Union of Two Sets"
   ]
  },
  {
   "cell_type": "code",
   "execution_count": 6,
   "metadata": {},
   "outputs": [
    {
     "name": "stdout",
     "output_type": "stream",
     "text": [
      "{'Lollipop', 'Marshmallow', 'Pie', 'Oreo', 'Nougat', 'Jelly Bean', 'KitKat'}\n",
      "{'Lollipop', 'Marshmallow', 'Pie', 'Oreo', 'Nougat', 'Jelly Bean', 'KitKat'}\n"
     ]
    }
   ],
   "source": [
    "print(andriodNewVerions | andriodOlderVersions)\n",
    "print(andriodNewVerions.union(andriodOlderVersions))"
   ]
  },
  {
   "cell_type": "markdown",
   "metadata": {},
   "source": [
    "#### intersection of Two Sets"
   ]
  },
  {
   "cell_type": "code",
   "execution_count": 7,
   "metadata": {},
   "outputs": [
    {
     "name": "stdout",
     "output_type": "stream",
     "text": [
      "{'Lollipop'}\n",
      "{'Lollipop'}\n"
     ]
    }
   ],
   "source": [
    "print(andriodNewVerions & andriodOlderVersions)\n",
    "print(andriodNewVerions.intersection(andriodOlderVersions))"
   ]
  },
  {
   "cell_type": "markdown",
   "metadata": {},
   "source": [
    "#### Difference between two set - its give first set diff item only"
   ]
  },
  {
   "cell_type": "code",
   "execution_count": 9,
   "metadata": {},
   "outputs": [
    {
     "name": "stdout",
     "output_type": "stream",
     "text": [
      "{'Nougat', 'Marshmallow', 'Pie', 'Oreo'}\n",
      "{'Nougat', 'Marshmallow', 'Pie', 'Oreo'}\n"
     ]
    }
   ],
   "source": [
    "print(andriodNewVerions - andriodOlderVersions)\n",
    "print(andriodNewVerions.difference(andriodOlderVersions))\n"
   ]
  },
  {
   "cell_type": "markdown",
   "metadata": {},
   "source": [
    "#### Difference between two set - its give both set diff items."
   ]
  },
  {
   "cell_type": "code",
   "execution_count": 10,
   "metadata": {},
   "outputs": [
    {
     "name": "stdout",
     "output_type": "stream",
     "text": [
      "{'Marshmallow', 'Nougat', 'Jelly Bean', 'KitKat', 'Pie', 'Oreo'}\n",
      "{'Marshmallow', 'Nougat', 'Jelly Bean', 'KitKat', 'Pie', 'Oreo'}\n"
     ]
    }
   ],
   "source": [
    "print(andriodNewVerions ^ andriodOlderVersions)\n",
    "print(andriodNewVerions.symmetric_difference(andriodOlderVersions))"
   ]
  },
  {
   "cell_type": "markdown",
   "metadata": {},
   "source": [
    "#### for sort"
   ]
  },
  {
   "cell_type": "code",
   "execution_count": 35,
   "metadata": {},
   "outputs": [
    {
     "data": {
      "text/plain": [
       "['Lollipop', 'Marshmallow', 'Nougat', 'Oreo', 'Pie']"
      ]
     },
     "execution_count": 35,
     "metadata": {},
     "output_type": "execute_result"
    }
   ],
   "source": [
    "sorted(andriodNewVerions)"
   ]
  },
  {
   "cell_type": "code",
   "execution_count": 9,
   "metadata": {},
   "outputs": [
    {
     "name": "stdout",
     "output_type": "stream",
     "text": [
      "\n",
      "*\n",
      "**\n",
      "***\n",
      "****\n",
      "*****\n",
      "******\n",
      "*******\n",
      "********\n",
      "*********"
     ]
    }
   ],
   "source": [
    " for i in range(1, 10):\n",
    "        print()\n",
    "        for j in range(i):\n",
    "            print('*', end = '')"
   ]
  },
  {
   "cell_type": "code",
   "execution_count": null,
   "metadata": {},
   "outputs": [],
   "source": []
  }
 ],
 "metadata": {
  "kernelspec": {
   "display_name": "Python 3",
   "language": "python",
   "name": "python3"
  },
  "language_info": {
   "codemirror_mode": {
    "name": "ipython",
    "version": 3
   },
   "file_extension": ".py",
   "mimetype": "text/x-python",
   "name": "python",
   "nbconvert_exporter": "python",
   "pygments_lexer": "ipython3",
   "version": "3.7.6"
  },
  "widgets": {
   "application/vnd.jupyter.widget-state+json": {
    "state": {},
    "version_major": 2,
    "version_minor": 0
   }
  }
 },
 "nbformat": 4,
 "nbformat_minor": 2
}
