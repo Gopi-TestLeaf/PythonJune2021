{
 "cells": [
  {
   "cell_type": "markdown",
   "metadata": {},
   "source": [
    "# Working with Files:- \n",
    "### Files are categorised as either text or binary.\n",
    "1. Text files are files that contains sequences of characters and can be opened by normal text editors.\n",
    "> Examples:- text file include .txt, .html, .md etc\n",
    "\n",
    "2. Binary files are non text files that contains special encodings and metadata and can only be processed by a given type of application.\n",
    "> Examples:- include Excel Files, PDF Files, Sqlite database files etc.\n",
    "\n",
    "### Opening files:- Files in python can be opened using the build in function.\n",
    "\n",
    "> **Syntax:- file_object = open(filepath, mode, **kwargs)**\n",
    "0. **filepath:-**\n",
    "1. Where filepath is the name / path of the file work to on, and mode tells the python interpreter how the file will be operated on.\n",
    "2. The open function returns a file_object that can be used to work on the file.\n",
    "\n",
    "> 0. **Modes:-**\n",
    "1. **'r'**  - read mode   - open file for reading, no changes to be mode to file. File pointer placed at start of file.\n",
    "2. **'w'**  - write mode  - open file in write mode - write or edit file. Will erase content if it exixts in file.\n",
    "3. **'a'**  - append mode - Add the content to the end of file, don't erase existing content. File pointer placed at end of file.\n",
    "4. **'r+'** - read/write mode - open the file for both read and write.\n",
    "5. **'a+'** - append/read mode - Allow reading and adding content to end of file.\n",
    "\n",
    "\n",
    "\n",
    "\n",
    "### File object methods:- \n",
    "* file_object.write('content') - write to the file.\n",
    "* file_object.read() - read file content.\n",
    "* file_object.readline() - read file content line by line.\n",
    "* file_object.readlines() - read every line and return a list.\n",
    "Note:- You can also loop through the lines of a text file.\n",
    "\n",
    "### Closing files:- \n",
    "After opening a file using the open function, it is important to close it after working on it. This is important becasue it frees system  memory and ensures all changes mode on the file are persisted on disk.\n",
    "\n",
    "To close a file just use the **close** methods on the file_object like so:\n",
    "\n",
    "* file_object.close()"
   ]
  },
  {
   "cell_type": "code",
   "execution_count": 2,
   "metadata": {},
   "outputs": [],
   "source": [
    "obj = open('t1.txt',mode = 'w')\n",
    "obj.write('leaf_text')\n",
    "obj.close()\n"
   ]
  },
  {
   "cell_type": "code",
   "execution_count": 3,
   "metadata": {},
   "outputs": [
    {
     "name": "stdout",
     "output_type": "stream",
     "text": [
      "False\n",
      "True\n"
     ]
    }
   ],
   "source": [
    "# Write in text file:- \n",
    "file_obj = open('cumstom.txt', 'w')\n",
    "for i in range(1, 11):\n",
    "    file_obj.write(f'Hello everyone, pls focus on today class {i}\\n')   \n",
    "print(file_obj.closed)\n",
    "file_obj.close()\n",
    "print(file_obj.closed)"
   ]
  },
  {
   "cell_type": "code",
   "execution_count": 5,
   "metadata": {},
   "outputs": [],
   "source": [
    "# Using context manager\n",
    "with open('customer.txt', 'w') as file_obj:\n",
    "    for i in range(1, 11):\n",
    "        file_obj.write(f'Hello everyone, pls focus on today class {i}\\n')"
   ]
  },
  {
   "cell_type": "code",
   "execution_count": 6,
   "metadata": {},
   "outputs": [
    {
     "name": "stdout",
     "output_type": "stream",
     "text": [
      "True\n"
     ]
    }
   ],
   "source": [
    "# Read text file:- read(), readline(), readlines()\n",
    "with open('cumstom.txt', 'r') as f:\n",
    "    data = f.readable()\n",
    "    print(data)"
   ]
  },
  {
   "cell_type": "code",
   "execution_count": 12,
   "metadata": {},
   "outputs": [
    {
     "name": "stdout",
     "output_type": "stream",
     "text": [
      "<class '_csv.reader'>\n",
      "S.no First_Name Last_Name\n",
      "        \n",
      "1   Gopinath Jayakumar\n",
      "        \n",
      "2   Babu Manickam\n",
      "        \n",
      "3   Sarath Kumar\n"
     ]
    }
   ],
   "source": [
    "# Working with CSV file:-  for read\n",
    "import csv\n",
    "\n",
    "with open('testleaf.csv') as f:\n",
    "    reader = csv.reader(f) \n",
    "    print(type(reader))\n",
    "    for i in reader:\n",
    "#        print(i)\n",
    "#          for j in i:\n",
    "#                 print(j)\n",
    "        print(i[0].ljust(3), i[1].ljust(3), i[2])"
   ]
  },
  {
   "cell_type": "code",
   "execution_count": 11,
   "metadata": {},
   "outputs": [
    {
     "name": "stdout",
     "output_type": "stream",
     "text": [
      "             \n",
      "1   Gopinath Jayakumar\n",
      "             \n",
      "2   Babu     Manickam\n",
      "             \n",
      "3   Sarath   Kumar\n"
     ]
    }
   ],
   "source": [
    "# Working with CSV file:-  for read\n",
    "import csv\n",
    "\n",
    "with open('testleaf.csv') as f:\n",
    "    reader = csv.DictReader(f)\n",
    "    for i in reader:\n",
    "        print(i['S.no'].ljust(3), \n",
    "              i['First_Name'].ljust(8),\n",
    "              i['Last_Name'])"
   ]
  },
  {
   "cell_type": "code",
   "execution_count": 13,
   "metadata": {},
   "outputs": [],
   "source": [
    "# Working with CSV file:-  for write\n",
    "import csv\n",
    "with open('testleaf123.csv', 'w') as f:\n",
    "    write = csv.writer(f)\n",
    "    \n",
    "    headings = [('S.no', 'First_Name', 'Last_Name')]\n",
    "  \n",
    "    write.writerows(headings)\n",
    "    \n",
    "    data = [['1', 'Gopinath', 'Jayakumar'],\n",
    "            ['2', 'Babu', 'Manickam'],\n",
    "            ['3', 'Sarath', 'Kumar']]\n",
    "    \n",
    "    write.writerows(data)\n",
    "   "
   ]
  },
  {
   "cell_type": "code",
   "execution_count": 5,
   "metadata": {},
   "outputs": [
    {
     "name": "stdout",
     "output_type": "stream",
     "text": [
      "['S.no', 'First_Name', 'Last_Name']\n",
      "[]\n",
      "['1', 'Gopinath', 'Jayakumar']\n",
      "[]\n",
      "['2', 'Babu', 'Manickam']\n",
      "[]\n",
      "['3', 'Sarath', 'Kumar']\n",
      "[]\n"
     ]
    }
   ],
   "source": [
    "import csv\n",
    "\n",
    "with open('testleaf.csv') as f:\n",
    "    reader = csv.reader(f)    \n",
    "    for i in reader:\n",
    "        print(i)"
   ]
  },
  {
   "cell_type": "markdown",
   "metadata": {},
   "source": [
    "# Working with JSON in Python:-\n",
    "\n",
    "## JSON:- JavaScript object notation. JSON is a lightweight data inspired by JavaScript objcect literal syntax.\n",
    "    \n",
    "> Encoding:- converting Python data types to JSON\n",
    "\n",
    "> Decoding:- converting JSON to python native data types.\n",
    "    \n",
    "### Python - JSON\n",
    "    * dict: object\n",
    "    * list, tuple: array\n",
    "    * str: string\n",
    "    * int, long, float: number\n",
    "    * True: true\n",
    "    * False: false\n",
    "    * None: null"
   ]
  },
  {
   "cell_type": "code",
   "execution_count": 8,
   "metadata": {},
   "outputs": [
    {
     "name": "stdout",
     "output_type": "stream",
     "text": [
      "<class 'str'>\n"
     ]
    },
    {
     "data": {
      "text/plain": [
       "'{\"name\": \"Gopinath Jayakumar\", \"pay\": 0, \"Exp\": 9, \"is_nothing\": false, \"hobbies\": [\"lksafjslkdfj\", \"nothing\"], \"value\": null}'"
      ]
     },
     "execution_count": 8,
     "metadata": {},
     "output_type": "execute_result"
    }
   ],
   "source": [
    "# load, loads, dump, dumps\n",
    "\n",
    "# Example:- \n",
    "\n",
    "data = {\n",
    "    'name': 'Gopinath Jayakumar',\n",
    "    'pay' : 0,\n",
    "    'Exp' : 9,\n",
    "    'is_nothing' : False,\n",
    "    'hobbies' : ('lksafjslkdfj', 'nothing'),\n",
    "    'value' : None\n",
    "}\n",
    "\n",
    "\n",
    "import js\n",
    "\n",
    "j_obj = json.dumps(data)\n",
    "print(type(j_obj))\n",
    "j_obj"
   ]
  },
  {
   "cell_type": "code",
   "execution_count": 9,
   "metadata": {},
   "outputs": [
    {
     "data": {
      "text/plain": [
       "{'name': 'Gopinath Jayakumar',\n",
       " 'pay': 0,\n",
       " 'Exp': 9,\n",
       " 'is_nothing': False,\n",
       " 'hobbies': ['lksafjslkdfj', 'nothing'],\n",
       " 'value': None}"
      ]
     },
     "execution_count": 9,
     "metadata": {},
     "output_type": "execute_result"
    }
   ],
   "source": [
    "j_obj = json.dumps(data, indent=4)\n",
    "json.loads(j_obj)\n"
   ]
  },
  {
   "cell_type": "code",
   "execution_count": 11,
   "metadata": {},
   "outputs": [],
   "source": [
    "import json\n",
    "\n",
    "# Write data in JSON file:- \n",
    "data = [{\n",
    "    'name': 'Gopinath Jayakumar',\n",
    "    'pay' : 0,\n",
    "    'Exp' : '10+',\n",
    "    'is_nothing' : False,\n",
    "    'hobbies' : ('sleeping', 'nothing')\n",
    "},\n",
    "{\n",
    "    'name': 'Babu',\n",
    "    'pay' : 1,\n",
    "    'Exp' : 17,\n",
    "    'is_nothing' : False,\n",
    "    'hobbies' : ('always reading', 'experiment')\n",
    "}]\n",
    "\n",
    "with open('hello.json', 'w') as f:\n",
    "    json.dump(data, f, indent =3)"
   ]
  },
  {
   "cell_type": "code",
   "execution_count": 38,
   "metadata": {
    "scrolled": true
   },
   "outputs": [
    {
     "name": "stdout",
     "output_type": "stream",
     "text": [
      "1\n"
     ]
    }
   ],
   "source": [
    "# Read the data from JSON file:-\n",
    "with open('testleaf1.json', 'r') as f:\n",
    "    data = json.load(f)\n",
    "    for i in data:\n",
    "        if (i['pay'] >=1):\n",
    "            print(i['pay'])         \n",
    "\n",
    "#another way\n",
    "    \n",
    "#     hob = filter(lambda x : x['pay'], data)\n",
    "#     print(list(hob))\n",
    "      "
   ]
  },
  {
   "cell_type": "code",
   "execution_count": 1,
   "metadata": {},
   "outputs": [
    {
     "name": "stdout",
     "output_type": "stream",
     "text": [
      "sfda\n",
      "123\n",
      "True\n",
      "Gopinath\n",
      "0\n",
      "False\n"
     ]
    }
   ],
   "source": [
    "# Learn Excel\n",
    "import openpyxl\n",
    "\n",
    "wb = openpyxl.load_workbook(\"C:\\\\Users\\\\gopir\\\\Desktop\\\\G.xlsx\")\n",
    "\n",
    "sheet = wb.active\n",
    "\n",
    "# row count\n",
    "row = sheet.max_row\n",
    "columnt = sheet.max_column\n",
    "\n",
    "for i in range(1, row+1):\n",
    "    for j in range(1, columnt+1):\n",
    "        cell = sheet.cell(row=i, column=j)\n",
    "        print(cell.value)"
   ]
  },
  {
   "cell_type": "code",
   "execution_count": null,
   "metadata": {},
   "outputs": [],
   "source": []
  }
 ],
 "metadata": {
  "kernelspec": {
   "display_name": "Python 3",
   "language": "python",
   "name": "python3"
  },
  "language_info": {
   "codemirror_mode": {
    "name": "ipython",
    "version": 3
   },
   "file_extension": ".py",
   "mimetype": "text/x-python",
   "name": "python",
   "nbconvert_exporter": "python",
   "pygments_lexer": "ipython3",
   "version": "3.8.3"
  }
 },
 "nbformat": 4,
 "nbformat_minor": 2
}
