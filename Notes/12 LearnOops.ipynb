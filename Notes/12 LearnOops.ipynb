{
 "cells": [
  {
   "cell_type": "markdown",
   "metadata": {},
   "source": [
    "# Object Oriented Programming in Python\n",
    "1. Classes\n",
    "2. Instances, Instance methods, Instance attributes\n",
    "3. Class attributes\n",
    "4. The init constructor\n",
    "5. Inheritance (Inheriting {attributes,methods,constructors etc..})\n",
    "6. Encapsulation\n",
    "7. Polymorphism\n",
    "8. Instance methods\n",
    "9. Multiple Inheritance and method/attribute lookup\n",
    "10. Method Resolution Order (MRO)\n",
    "11. Static methods\n",
    "12. Class methods"
   ]
  },
  {
   "cell_type": "markdown",
   "metadata": {},
   "source": [
    "## Class & Object:-\n",
    "\n",
    ">  **Class**: A Class is user defined template which contains **variables, constants and methods** etc.\n",
    "\n",
    ">  **Object**: Object is an instance of the class.In simple words, a class contains the structure of the code, whereas \n",
    "    the object of the class uses that structure for performing various tasks\n",
    "    "
   ]
  },
  {
   "cell_type": "code",
   "execution_count": 1,
   "metadata": {},
   "outputs": [
    {
     "name": "stdout",
     "output_type": "stream",
     "text": [
      "<__main__.testleaf object at 0x06C02350>\n",
      "<__main__.testleaf object at 0x06C02390>\n"
     ]
    }
   ],
   "source": [
    "#Demo 1:- \n",
    "class testleaf:\n",
    "    pass\n",
    "\n",
    "per1 = testleaf()\n",
    "print(per1)\n",
    "\n",
    "per2 = testleaf()\n",
    "print(per2)"
   ]
  },
  {
   "cell_type": "code",
   "execution_count": 1,
   "metadata": {},
   "outputs": [
    {
     "name": "stdout",
     "output_type": "stream",
     "text": [
      "<__main__.testleaf object at 0x000001AF13478F60>\n",
      "<__main__.testleaf object at 0x000001AF13478F60>\n",
      "Python\n"
     ]
    }
   ],
   "source": [
    "#Demo 2:-  with method\n",
    "class testleaf:\n",
    "    \n",
    "    def python(self, X = 5000):   \n",
    "        print(self)\n",
    "        print(\"Python\")\n",
    "        \n",
    "        \n",
    "per1 = testleaf();                             # Instance Methods\n",
    "per1.python(100)\n",
    "\n",
    "per2 = testleaf();                             # Instance Methods\n",
    "per2.python()\n",
    "\n",
    "per1.python()\n",
    "#testleaf.python()"
   ]
  },
  {
   "cell_type": "code",
   "execution_count": 4,
   "metadata": {},
   "outputs": [
    {
     "name": "stdout",
     "output_type": "stream",
     "text": [
      "Person1   Python   4+\n",
      "More details of Students\n"
     ]
    }
   ],
   "source": [
    "# Demo 3:- methods with no. of argument \n",
    "\n",
    "class testleaf:\n",
    "    \n",
    "    def students(self, name, course, exp):\n",
    "        print(name, \" \", course, \" \", exp )\n",
    "        \n",
    "    def moreDetails(self):\n",
    "        print(\"More details of Students\")\n",
    "        \n",
    "x = testleaf()\n",
    "\n",
    "x.students(\"Person1\", \"Python\", \"4+\")\n",
    "x.moreDetails()\n"
   ]
  },
  {
   "cell_type": "markdown",
   "metadata": {},
   "source": [
    "# '__init__' constructor.py\n",
    "> __init__() is a constructor method which helps to set initial values while instatiating a class. __init__() will get called with the attributes set in __init__() when a class is instantiated. The '__' before and after the method name denotes that method is private. It's called magic methods. since it's called internally and automatically."
   ]
  },
  {
   "cell_type": "code",
   "execution_count": 2,
   "metadata": {},
   "outputs": [
    {
     "name": "stdout",
     "output_type": "stream",
     "text": [
      "__init__\n"
     ]
    },
    {
     "data": {
      "text/plain": [
       "'----> Python---->Yes'"
      ]
     },
     "execution_count": 2,
     "metadata": {},
     "output_type": "execute_result"
    }
   ],
   "source": [
    "#Demo 4:-  with __init__\n",
    "\n",
    "class testleaf:\n",
    "    \n",
    "    def __init__(self, name):\n",
    "        x = 100\n",
    "        \n",
    "        x = 300\n",
    "        self.name = name\n",
    "        self.course = \"Python\"\n",
    "        self.exp = \"Yes\"\n",
    "        print('__init__')\n",
    "      \n",
    "    def python(self):\n",
    "        return f'{self.name}----> {self.course}---->{self.exp}'       \n",
    "    \n",
    "    def webservice(self):\n",
    "        pass\n",
    "        \n",
    "#Per1 -> Python\n",
    "per1 = testleaf('Babu') \n",
    "per1.course = \"Python\"\n",
    "per1.python()\n"
   ]
  },
  {
   "cell_type": "code",
   "execution_count": 3,
   "metadata": {},
   "outputs": [
    {
     "name": "stdout",
     "output_type": "stream",
     "text": [
      "__init__\n",
      "Person1----> Python---->Yes\n",
      "testleaf\n"
     ]
    }
   ],
   "source": [
    "#Demo 5:- \n",
    "class testleaf:\n",
    "    \n",
    "    def __init__(self, name, course, exp):\n",
    "        self.name = name\n",
    "        self.course = course\n",
    "        self.exp = exp\n",
    "        print('__init__') \n",
    "        \n",
    "    def __str__(self):\n",
    "        return \"testleaf\"\n",
    "    \n",
    "    def python(self):\n",
    "        return f'{self.name}----> {self.course}---->{self.exp}'       \n",
    "    \n",
    "    def webservice(self):\n",
    "        pass\n",
    "        \n",
    "#Per1 -> Python\n",
    "per1 = testleaf(\"Person1\", 'Python', 'Yes')\n",
    "\n",
    "#per2 = testleaf(\"Person2\", 'webservice', 'No')\n",
    "\n",
    "print(per1.python())\n",
    "#print(per2.python())\n",
    "print(per1)\n",
    "#print(per2)\n"
   ]
  },
  {
   "cell_type": "markdown",
   "metadata": {},
   "source": [
    "# Inheritance:- \n",
    "> Any class Inheriting from another class (also called a Parent class or Super Class). Inherits the methods and attributes from the Parent class."
   ]
  },
  {
   "cell_type": "code",
   "execution_count": 36,
   "metadata": {},
   "outputs": [
    {
     "name": "stdout",
     "output_type": "stream",
     "text": [
      "we can use python for diffent purpose like for Delevop the product and also Testing the product and so on\n",
      "----------------------------------------------------------------------------------------------------------\n",
      "Python founder Guido van Rossum\n",
      "----------------------------------------------------------------------------------------------------------\n",
      "we can use python for diffent purpose like for Delevop the product and also Testing the product and so on\n"
     ]
    }
   ],
   "source": [
    "# Single level Inheritance\n",
    "\n",
    "# The code below shows how a class can inherit from another class.\n",
    "# We have two classes, `testleaf` and `python`. Here `python` inherits from `testleaf`.\n",
    "\n",
    "class testleaf:\n",
    "    \n",
    "    def python_course(self):\n",
    "        return f'we can use python for diffent purpose like for Delevop the product and also Testing the product and so on'        \n",
    "\n",
    "    \n",
    "#===========================================================================================================================    \n",
    "    \n",
    "class python(testleaf):\n",
    "    \n",
    "    def python_founder(self):\n",
    "        return f'Python founder Guido van Rossum' \n",
    "    \n",
    "#===========================================================================================================================\n",
    "\n",
    "# Hence, any instances created from the class `python` can access\n",
    "# the methods defined in the parent class `testleaf`.\n",
    "\n",
    "# Creating an instance from `testleaf`\n",
    "tl = testleaf()\n",
    "print(tl.python_course())              # Accesing the `python_course()` method of `testleaf`\n",
    "\n",
    "\n",
    "print('----------------------------------------------------------------------------------------------------------')\n",
    "\n",
    "# Creating an instance from `python`\n",
    "py = python()\n",
    "print(py.python_founder())              # Accesing the `python_founder()` method of `testleaf`\n",
    "\n",
    "\n",
    "print('----------------------------------------------------------------------------------------------------------')\n",
    "\n",
    "\n",
    "# Accessing the `python_course() which is defined in the parent class `testleaf`.\n",
    "print(py.python_course())\n"
   ]
  },
  {
   "cell_type": "code",
   "execution_count": 58,
   "metadata": {},
   "outputs": [
    {
     "name": "stdout",
     "output_type": "stream",
     "text": [
      "Postman founder Abhinav Asthana\n",
      "['postman', 'restAssured', 'SoapUi']\n",
      "we can use python for diffent purpose like for Delevop the product and also Testing the product and so on\n"
     ]
    }
   ],
   "source": [
    "# Multiple level Inheritance\n",
    "\n",
    "class testleaf:\n",
    "    \n",
    "    def python_course(self):\n",
    "        return f'we can use python for diffent purpose like for Delevop the product and also Testing the product and so on'        \n",
    "        \n",
    "#===========================================================================================================================    \n",
    "                \n",
    "class webserive(testleaf):\n",
    "    \n",
    "    def specific_Course(self):\n",
    "        return ['postman', 'restAssured', 'SoapUi']\n",
    "        \n",
    "#===========================================================================================================================    \n",
    "        \n",
    "class postman(webserive):\n",
    "    \n",
    "    def postman_details(self):\n",
    "        return f'Postman founder Abhinav Asthana'\n",
    "        \n",
    "#===========================================================================================================================    \n",
    "        \n",
    "x = postman()\n",
    "\n",
    "print(x.postman_details())            # subclass method \n",
    "\n",
    "print(x.specific_Course())            # superclass method \n",
    "\n",
    "print(x.python_course())              # super most method"
   ]
  },
  {
   "cell_type": "code",
   "execution_count": 59,
   "metadata": {},
   "outputs": [
    {
     "name": "stdout",
     "output_type": "stream",
     "text": [
      "Postman founder Abhinav Asthana\n",
      "['postman', 'restAssured', 'SoapUi']\n",
      "we can use python for diffent purpose like for Delevop the product and also Testing the product and so on\n"
     ]
    }
   ],
   "source": [
    "# Multiple Inheritance\n",
    "\n",
    "class testleaf:\n",
    "    \n",
    "    def python_course(self):\n",
    "        return f'we can use python for diffent purpose like for Delevop the product and also Testing the product and so on'        \n",
    "        \n",
    "#===========================================================================================================================    \n",
    "                \n",
    "class webserive:\n",
    "    \n",
    "    def specific_Course(self):\n",
    "        return ['postman', 'restAssured', 'SoapUi']\n",
    "        \n",
    "#===========================================================================================================================    \n",
    "        \n",
    "class postman(webserive, testleaf):                  # Multiple Inheritance\n",
    "    \n",
    "    def postman_details(self):\n",
    "        return f'Postman founder Abhinav Asthana'\n",
    "    \n",
    "    \n",
    "x = postman()\n",
    "x.python_course()\n",
    "        \n",
    "#===========================================================================================================================    \n",
    "        \n",
    "x = postman()\n",
    "\n",
    "print(x.postman_details())            # subclass method \n",
    "\n",
    "print(x.specific_Course())            # superclass method \n",
    "\n",
    "print(x.python_course())              # super most method"
   ]
  },
  {
   "cell_type": "code",
   "execution_count": 62,
   "metadata": {},
   "outputs": [
    {
     "name": "stdout",
     "output_type": "stream",
     "text": [
      "__init__\n"
     ]
    }
   ],
   "source": [
    "# Single level Inheritance:- with __init__ Note: we use super() functions\n",
    "\n",
    "class testleaf:  # SuperClass \n",
    "    \n",
    "    def __init__(self):\n",
    "        print('__init__')\n",
    "    \n",
    "    \n",
    "    def stud_into(self):\n",
    "        print ('Stud_info')        \n",
    "\n",
    "#===========================================================================================================================    \n",
    "        \n",
    "        \n",
    "class python(testleaf): # sub_class\n",
    "    \n",
    "    def __init__(self):       \n",
    "       # super().__init__()\n",
    "    \n",
    "    def pythonFounder(self):\n",
    "        print('Rossum')\n",
    "        \n",
    "#===========================================================================================================================    \n",
    "        \n",
    "x = python()"
   ]
  },
  {
   "cell_type": "code",
   "execution_count": 63,
   "metadata": {},
   "outputs": [
    {
     "name": "stdout",
     "output_type": "stream",
     "text": [
      "soupi_restAssured\n",
      "(<class '__main__.restAssured'>, <class '__main__.webserive'>, <class '__main__.testleaf'>, <class 'object'>)\n"
     ]
    }
   ],
   "source": [
    "#Demo:- Method Resolution Order (MRO) \n",
    "\n",
    "class testleaf:\n",
    "    \n",
    "    def stud_into(self):\n",
    "        print ('Stud_info')  \n",
    "        \n",
    "    def soupui(self):\n",
    "        print('soupi_restAssured')\n",
    "        \n",
    "#===========================================================================================================================    \n",
    "   \n",
    "        \n",
    "class webserive(testleaf):\n",
    "    \n",
    "    def baseInfo_API(self):\n",
    "        print('api testing') \n",
    "        \n",
    "#===========================================================================================================================    \n",
    "    \n",
    "        \n",
    "class postman(webserive):\n",
    "    \n",
    "    def manualtestingTool(self):\n",
    "        print('Postman')\n",
    "        \n",
    "    def soupui(self):\n",
    "        print('soupi_postman')\n",
    "        \n",
    "#===========================================================================================================================    \n",
    "        \n",
    "class restAssured(webserive):\n",
    "    \n",
    "    def usingAPI(self):\n",
    "        print('Rest_API')      \n",
    "        \n",
    "        \n",
    "#===========================================================================================================================    \n",
    "        \n",
    "x = restAssured()\n",
    "x.soupui()\n",
    "print(restAssured.__mro__)      # Method Resolution Order (MRO)"
   ]
  },
  {
   "cell_type": "markdown",
   "metadata": {},
   "source": [
    "# Polymorphism:- Overriding & Overloading\n",
    "\n",
    "> **Overriding:** is when you call a method on an object and the method in subclass with the same signature as the one in the \n",
    "Super class is called Method OverRiding. Its one of the Object Oriented programming feature that allows a \n",
    "subclass to superClass."
   ]
  },
  {
   "cell_type": "code",
   "execution_count": 70,
   "metadata": {},
   "outputs": [
    {
     "name": "stdout",
     "output_type": "stream",
     "text": [
      "soupui_restAssured\n"
     ]
    }
   ],
   "source": [
    "#for Overriding\n",
    "\n",
    "class testleaf: \n",
    "    \n",
    "    def stud_into(self):\n",
    "        print ('Stud_info')  \n",
    "        \n",
    "    def soupui(self):\n",
    "        print('soupui_testleaf')\n",
    "        \n",
    "#===========================================================================================================================    \n",
    "   \n",
    "        \n",
    "class webserive(testleaf):   \n",
    "    \n",
    "    def baseInfo_API(self):\n",
    "        print('api testing')\n",
    "        \n",
    "    def soupui(self):\n",
    "        print('soupui_restAssured')                   # Overriding method\n",
    "        \n",
    "#===========================================================================================================================    \n",
    "        \n",
    "    \n",
    "x = webserive()\n",
    "x.soupui()"
   ]
  },
  {
   "cell_type": "code",
   "execution_count": 68,
   "metadata": {},
   "outputs": [
    {
     "name": "stdout",
     "output_type": "stream",
     "text": [
      "64  is area of square\n"
     ]
    }
   ],
   "source": [
    "class Rectangle():\n",
    "    \n",
    "    def __init__(self,length,breadth):\n",
    "        self.length = length\n",
    "        self.breadth = breadth\n",
    "   \n",
    "    def getArea(self):\n",
    "        print (self.length*self.breadth,\" is area of rectangle\")\n",
    "        \n",
    "#===========================================================================================================================    \n",
    "\n",
    "class Square(Rectangle):\n",
    "    \n",
    "    def __init__(self,side):\n",
    "        self.side = side\n",
    "        Rectangle.__init__(self,side,side)\n",
    "    \n",
    "    def getArea(self):                                                 # Overriding Method\n",
    "        print (self.side*self.side,\" is area of square\")\n",
    "\n",
    "#===========================================================================================================================            \n",
    "\n",
    "x = Square(8)\n",
    "x.getArea()"
   ]
  },
  {
   "cell_type": "code",
   "execution_count": 69,
   "metadata": {},
   "outputs": [
    {
     "name": "stdout",
     "output_type": "stream",
     "text": [
      "('babu', 'sarath', 'balaji')\n",
      "('Babu',)\n"
     ]
    }
   ],
   "source": [
    "# Overloading\n",
    "\n",
    "class testleaf:   \n",
    "    \n",
    "    ls = []    \n",
    "    def __init__(self, *args):\n",
    "        self.ls = args  \n",
    "        print (self.ls)\n",
    "        \n",
    "#===========================================================================================================================            \n",
    "\n",
    "x = testleaf('babu', 'sarath', 'balaji')           # Overload \n",
    "y = testleaf(\"Babu\")                               # Overload "
   ]
  },
  {
   "cell_type": "code",
   "execution_count": 71,
   "metadata": {},
   "outputs": [
    {
     "name": "stdout",
     "output_type": "stream",
     "text": [
      "25\n",
      "25\n"
     ]
    }
   ],
   "source": [
    "# Operator Overloading\n",
    "a= 5 \n",
    "b = 5\n",
    "\n",
    "print(a*b)\n",
    "print(a.__mul__(b))"
   ]
  },
  {
   "cell_type": "markdown",
   "metadata": {},
   "source": [
    "# Methods:- instance methods, class methods and static methods\n",
    "1. **Instamce Methods:-** An Instance Method is invoked by an instance object(not a class Object).\n",
    "\n",
    "2. **Class Methods:-** A Class Methods belogns to the class and is a function of the class. It is declared with the **@classmethod** decorator. It accepts the class as its first argument.\n",
    "\n",
    "3. **Static Methods:-** A static method is declared with a **@staticmethod** decorator. It **'doesn\\'t' know its class** and is attached to the class for convenience. It does not depends on the state of the objects and could be a separate function of modules."
   ]
  },
  {
   "cell_type": "code",
   "execution_count": 5,
   "metadata": {},
   "outputs": [
    {
     "name": "stdout",
     "output_type": "stream",
     "text": [
      "__init__ methods\n",
      "1851474916856\n",
      "__init__ methods\n",
      "1851474917304\n"
     ]
    }
   ],
   "source": [
    "class testleaf:\n",
    "    \n",
    "    def __init__(self):\n",
    "        print(\"__init__ methods\")\n",
    "        \n",
    "    def python_developer(self,a):\n",
    "        print('python Deve')\n",
    "    \n",
    "    @classmethod\n",
    "    def python_tester(cls):\n",
    "        print('python_tester')\n",
    "    \n",
    "    @staticmethod\n",
    "    def programming_language():  \n",
    "        print('Any backend Program')   \n",
    "        \n",
    "        \n",
    "x = testleaf()\n",
    "print(id(x))\n",
    "x.python_developer(100)\n",
    "x.python_tester()\n",
    "\n",
    "y = testleaf()\n",
    "print(id(y))\n",
    "y.python_developer('test')"
   ]
  },
  {
   "cell_type": "markdown",
   "metadata": {},
   "source": [
    "# Variables: - Instance Variables and Class Variables"
   ]
  },
  {
   "cell_type": "code",
   "execution_count": null,
   "metadata": {},
   "outputs": [],
   "source": [
    "# for Variables:- Instance and Class or Static Variable\n",
    "\n",
    "class testleaf:\n",
    "    \n",
    "    student = \"alumini\"                    # Class Variable\n",
    "    \n",
    "    def __init__(self, name, course, exp):\n",
    "        self.course = course               # instance variable \n",
    "        self.name = name                   # instance variable\n",
    "        self.exp = exp                     # instance variable   - we can change it, Once we change the value \n",
    "                                           #                       this will not affact another instance varialbe value.\n",
    "            \n",
    "    \n",
    "    def __str__(self):\n",
    "        return f'Testleaf is contacting the {self.course}'        \n",
    "    \n",
    "    def python(self):  \n",
    "        print(testleaf.student)\n",
    "        return f'{self.name}----> {self.course}---->{self.exp}'       \n",
    "    \n",
    "    def webservice(self):\n",
    "        testleaf.student = \"old_alumini\"\n",
    "        print(testleaf.student)\n",
    "    \n",
    "    \n",
    "per1 = testleaf('per1', 'webservice', \"4\")  \n",
    "per1.webservice() \n",
    "\n",
    "per2 = testleaf('per2', 'python', \"4\")  \n",
    "per2.webservice()\n",
    "\n",
    "per2.python()\n",
    "\n",
    "print(per1)\n",
    "    "
   ]
  },
  {
   "cell_type": "markdown",
   "metadata": {},
   "source": [
    "# Encapsulation:- One of the Piller of Oop Concept\n",
    "> In a Object oriented python program, you can restric access to methods and variables. This can prevent the data from being\n",
    "> modified by accident and is know as encapsulation. Encapsulation can be achieved using private variable and private methods."
   ]
  },
  {
   "cell_type": "code",
   "execution_count": 66,
   "metadata": {},
   "outputs": [
    {
     "name": "stdout",
     "output_type": "stream",
     "text": [
      "public\n",
      "10\n"
     ]
    }
   ],
   "source": [
    "class testleaf:\n",
    "    \n",
    "    __myvalue = 10\n",
    "    myvalue123 =100\n",
    "     __myvalue = 1200\n",
    "    \n",
    "    def __seleniumFour(self):\n",
    "        print('private method')\n",
    "        \n",
    "    def seleniumThree(self):\n",
    "        print('public')\n",
    "        \n",
    "    def seleniumThree123(self):\n",
    "        print('public')\n",
    "        \n",
    "    def set_callMyvalue(self):       \n",
    "        return testleaf.__myvalue = 100\n",
    "    \n",
    "    def s():\n",
    "        return testleaf.__seleniumFour()\n",
    "        \n",
    "        \n",
    "x = testleaf();\n",
    "x.seleniumThree()\n",
    "print(x.callMyvalue())"
   ]
  },
  {
   "cell_type": "code",
   "execution_count": 1,
   "metadata": {},
   "outputs": [],
   "source": [
    "class sample():\n",
    "    \n",
    "    def sa():\n",
    "        pass\n",
    "    \n",
    "    def __sa1():\n",
    "        pass\n",
    "    \n",
    "x = sample()"
   ]
  },
  {
   "cell_type": "code",
   "execution_count": null,
   "metadata": {},
   "outputs": [],
   "source": [
    "x."
   ]
  }
 ],
 "metadata": {
  "kernelspec": {
   "display_name": "Python 3",
   "language": "python",
   "name": "python3"
  },
  "language_info": {
   "codemirror_mode": {
    "name": "ipython",
    "version": 3
   },
   "file_extension": ".py",
   "mimetype": "text/x-python",
   "name": "python",
   "nbconvert_exporter": "python",
   "pygments_lexer": "ipython3",
   "version": "3.8.5"
  }
 },
 "nbformat": 4,
 "nbformat_minor": 2
}
